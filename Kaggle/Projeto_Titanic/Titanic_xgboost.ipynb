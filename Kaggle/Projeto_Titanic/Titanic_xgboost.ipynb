{
  "nbformat": 4,
  "nbformat_minor": 0,
  "metadata": {
    "colab": {
      "name": "Titanic.ipynb",
      "private_outputs": true,
      "provenance": [],
      "collapsed_sections": [
        "C5nHzdFoQEni",
        "JXsFyddB8KMM"
      ],
      "include_colab_link": true
    },
    "kernelspec": {
      "name": "python3",
      "display_name": "Python 3"
    },
    "language_info": {
      "name": "python"
    }
  },
  "cells": [
    {
      "cell_type": "markdown",
      "metadata": {
        "id": "view-in-github",
        "colab_type": "text"
      },
      "source": [
        "<a href=\"https://colab.research.google.com/github/gdagomes/Python/blob/main/Titanic.ipynb\" target=\"_parent\"><img src=\"https://colab.research.google.com/assets/colab-badge.svg\" alt=\"Open In Colab\"/></a>"
      ]
    },
    {
      "cell_type": "markdown",
      "source": [
        "#Visão Geral\n",
        "\n",
        "https://www.kaggle.com/c/titanic/overview\n",
        "\n",
        "Os dados foram divididos em dois grupos:\n",
        "\n",
        "1.   conjunto de treinamento (train.csv)\n",
        "\n",
        "O conjunto de treinamento deve ser usado para criar seus modelos de aprendizado de máquina. Para o conjunto de treinamento, fornecemos o resultado (também conhecido como “verdade do terreno”) para cada passageiro. Seu modelo será baseado em “características” como gênero e classe dos passageiros. Você também pode usar a engenharia de recursos para criar novos recursos.\n",
        "\n",
        "\n",
        "2.   conjunto de teste (test.csv)\n",
        "\n",
        "O conjunto de teste deve ser usado para ver o desempenho do seu modelo em dados não vistos. Para o conjunto de teste, não fornecemos a verdade para cada passageiro. É seu trabalho prever esses resultados. Para cada passageiro no conjunto de teste, use o modelo que você treinou para prever se eles sobreviveram ou não ao naufrágio do Titanic.\n",
        "\n"
      ],
      "metadata": {
        "id": "C5nHzdFoQEni"
      }
    },
    {
      "cell_type": "markdown",
      "source": [
        "#Importando\n",
        "\n",
        "Bibliotecas e os arquivos que serão utilizados como Treino e Test"
      ],
      "metadata": {
        "id": "1AvdPhE5PSz7"
      }
    },
    {
      "cell_type": "code",
      "source": [
        "import pandas as pd\n",
        "import numpy as np\n",
        "import seaborn as sns\n",
        "import matplotlib.pyplot as plt\n",
        "from google.colab import files\n",
        "import io"
      ],
      "metadata": {
        "id": "Jt_7it-neVkq"
      },
      "execution_count": null,
      "outputs": []
    },
    {
      "cell_type": "code",
      "source": [
        "#upload_train = files.upload()\n",
        "#treino = pd.read_csv(io.BytesIO(upload_train['train.csv']))\n",
        "treino = pd.read_csv('/content/train.csv',',')"
      ],
      "metadata": {
        "id": "HrzdBJpGegNO"
      },
      "execution_count": null,
      "outputs": []
    },
    {
      "cell_type": "code",
      "source": [
        "#upload_test = files.upload()\n",
        "#teste = pd.read_csv(io.BytesIO(upload_test['test.csv']))\n",
        "\n",
        "teste = pd.read_csv('/content/test.csv',',')"
      ],
      "metadata": {
        "id": "qi9WkP0cImqn"
      },
      "execution_count": null,
      "outputs": []
    },
    {
      "cell_type": "markdown",
      "source": [
        "##Visualizando as informações do DataFrame\n",
        "\n",
        "Notas Variáveis\n",
        "\n",
        "- pclass : Uma proxy para o status socioeconômico (SES)\n",
        "1º = Alto\n",
        "2º = Médio\n",
        "3º = Idade mais baixa : A\n",
        "\n",
        "- idade é fracionária se for menor que 1. Se a idade for estimada, está na forma de xx.5\n",
        "\n",
        "- sibsp : O conjunto de dados define as relações familiares desta forma...\n",
        "Irmão = irmão, irmã, meio-irmão, meia-irmã\n",
        "Cônjuge = marido, esposa (amantes e noivos foram ignorados)\n",
        "\n",
        "- parch : O conjunto de dados define as relações familiares desta forma...\n",
        "Pai = mãe, pai\n",
        "Filho = filha, filho, enteada, enteado\n",
        "Algumas crianças viajavam apenas com uma babá, portanto parch=0 para elas.\n",
        "\n",
        "- passengerID\n",
        "\n",
        "- Name\n",
        "\n",
        "- Ticket\n",
        "\n",
        "- Cabin\n",
        "\n"
      ],
      "metadata": {
        "id": "qmTmovwzPcLC"
      }
    },
    {
      "cell_type": "code",
      "source": [
        "# Visualizando os dados do DataFrame de Treino\n",
        "\n",
        "treino.head()\n",
        "#treino.info()"
      ],
      "metadata": {
        "id": "okfQuTRxJUhl"
      },
      "execution_count": null,
      "outputs": []
    },
    {
      "cell_type": "code",
      "source": [
        "# Visualizando os dados do DF de Teste\n",
        "\n",
        "teste.head()\n",
        "# teste.info()"
      ],
      "metadata": {
        "id": "3oskGYVBPQ8f"
      },
      "execution_count": null,
      "outputs": []
    },
    {
      "cell_type": "code",
      "source": [
        "# Identificando % da quantidade de missings (NAN) do DF \n",
        "\n",
        "pd.DataFrame(zip(treino.isnull().sum(),(treino.isnull().sum()/len(treino))*100), columns=['Count','Proportion'], index=treino.columns)"
      ],
      "metadata": {
        "id": "N2jy99--PNvr"
      },
      "execution_count": null,
      "outputs": []
    },
    {
      "cell_type": "code",
      "source": [
        "pd.DataFrame(zip(teste.isnull().sum(),(teste.isnull().sum()/len(teste))*100), columns=['Count','Proportion'], index=teste.columns) "
      ],
      "metadata": {
        "id": "1z-k_80OXgsz"
      },
      "execution_count": null,
      "outputs": []
    },
    {
      "cell_type": "markdown",
      "source": [
        "Verificando qual a melhor forma de \"preencher\" a coluna Age utilizando: \n",
        "\n",
        "- Média\n",
        "- Mediana\n",
        "- Média idade por agrupamento por Pclass e Sex\n",
        "- Média idade por agrupamento por Pclass e Pronome de Tratamento "
      ],
      "metadata": {
        "id": "WJfz_tv6XBEH"
      }
    },
    {
      "cell_type": "code",
      "source": [
        "# media e mediana\n",
        "print(f\"Treino \\nMédia: {treino['Age'].mean():.2f}, Mediana: {treino['Age'].median():.1f}\\n\")\n",
        "print(f\"Teste \\nMédia: {teste['Age'].mean():.2f}, Mediana: {teste['Age'].median():.1f}\\n\")\n",
        "\n",
        "# media agrupada por Pclass e Sex\n",
        "print(f\"Treino:\\n{(treino.groupby(['Pclass', 'Sex'])['Age'].mean()).round(1)}\")\n",
        "print(f\"\\nTeste: \\n{(teste.groupby(['Pclass', 'Sex'])['Age'].mean()).round(1)}\")"
      ],
      "metadata": {
        "id": "0v8OYj9KPM7J"
      },
      "execution_count": null,
      "outputs": []
    },
    {
      "cell_type": "markdown",
      "source": [
        "Média idade por agrupamento por Pclass e Pronome de Tratamento - **Sugestão Professor Rafael**\n",
        "\n",
        "Pronomes de Tratamento = 'Mr.', 'Mrs.', 'Miss.', 'Master.', 'Major.', 'Col.', \n",
        "            'Dr.', 'Rev.', 'Jonkheer.', 'Countess.', 'Mlle.', \n",
        "            'Capt.', 'Ms.', 'Lady.', 'Sir.', 'Don.', 'Mme.'\n",
        "\n",
        "\n",
        "Analisando os pronomes identificamos que nas classes 2 e 3 (df treino) e no df de teste em nenhuma das classes não possuímos Major. "
      ],
      "metadata": {
        "id": "WUgXikM2gcMa"
      }
    },
    {
      "cell_type": "code",
      "source": [
        "pronomes = ['Mr.', 'Mrs.', 'Miss.', 'Master.', 'Major.', 'Col.', \n",
        "            'Dr.', 'Rev.', 'Jonkheer.', 'Countess.', 'Mlle.', \n",
        "            'Capt.', 'Ms.', 'Lady.', 'Sir.', 'Don.', 'Mme.']"
      ],
      "metadata": {
        "id": "6qk6PIYzww2t"
      },
      "execution_count": null,
      "outputs": []
    },
    {
      "cell_type": "code",
      "source": [
        "print(f'***********************************TREINO*****************************')\n",
        "\n",
        "for c in range(1,4):\n",
        "\n",
        "  print(f\"----------------{c}ª CLASSE----------------\")\n",
        "\n",
        "  print(f\"Idade Média Mrs: {treino[((treino['Name'].str.contains('Mrs.')) & (treino['Pclass']== c))]['Age'].mean():.1f}\")\n",
        "  \n",
        "  print(f\"Idade Média Mr:  {treino[((treino['Name'].str.contains('Mr.')) & (treino['Pclass']== c))]['Age'].mean():.1f}\")\n",
        "  \n",
        "  print(f\"Idade Média Miss: {treino[((treino['Name'].str.contains('Miss.')) & (treino['Pclass']== c))]['Age'].mean():.1f}\")\n",
        " \n",
        "  print(f\"Idade Média Master: {treino[((treino['Pclass']==c) & (treino['Name'].str.contains('Master.')))]['Age'].mean():.1f}\")\n",
        " \n",
        "  print(f\"Idade Média Major: {treino[((treino['Pclass']==c) & (treino['Name'].str.contains('Major.')))]['Age'].mean():.1f}\")\n",
        " \n",
        "  print(f\"Idade Média Col: {treino[((treino['Pclass']==c) & (treino['Name'].str.contains('Col.')))]['Age'].mean():.1f}\")\n",
        " \n",
        "  print(f\"Idade Média Outros: {treino[((treino['Pclass']==c) & (treino['Name'].str.contains('Dr.|Rev.|Jonkheer.|Countess.|Mlle.|Capt.|Ms.|Lady.|Sir.|Don.|Mme')))]['Age'].mean():.1f}\")\n",
        "\n",
        "  print()\n",
        "\n",
        "\n",
        "print()\n",
        "print(f'***********************************TESTE*****************************')\n",
        "\n",
        "for c in range(1,4):\n",
        "\n",
        "  print(f\"----------------{c}ª CLASSE----------------\")\n",
        "\n",
        "  print(f\"Idade Média Mrs: {teste[((teste['Name'].str.contains('Mrs.')) & (teste['Pclass']== c))]['Age'].mean():.1f}\")\n",
        "  \n",
        "  print(f\"Idade Média Mr:  {teste[((teste['Name'].str.contains('Mr.')) & (teste['Pclass']== c))]['Age'].mean():.1f}\")\n",
        "  \n",
        "  print(f\"Idade Média Miss: {teste[((teste['Name'].str.contains('Miss.')) & (teste['Pclass']== c))]['Age'].mean():.1f}\")\n",
        " \n",
        "  print(f\"Idade Média Master: {teste[((teste['Pclass']==c) & (teste['Name'].str.contains('Master.')))]['Age'].mean():.1f}\")\n",
        " \n",
        "  print(f\"Idade Média Major: {teste[((teste['Pclass']==c) & (teste['Name'].str.contains('Major.')))]['Age'].mean():.1f}\")\n",
        " \n",
        "  print(f\"Idade Média Col: {teste[((teste['Pclass']==c) & (teste['Name'].str.contains('Col.')))]['Age'].mean():.1f}\")\n",
        " \n",
        "  print(f\"Idade Média Outros: {teste[((teste['Pclass']==c) & (teste['Name'].str.contains('Dr.|Rev.|Jonkheer.|Countess.|Mlle.|Capt.|Ms.|Lady.|Sir.|Don.|Mme')))]['Age'].mean():.1f}\")\n",
        "\n",
        "  print()"
      ],
      "metadata": {
        "id": "JDBB3ai0PBY3"
      },
      "execution_count": null,
      "outputs": []
    },
    {
      "cell_type": "markdown",
      "source": [
        "Média de idade agrupados somente por Pclass e Sex - ***Sugestão Profª Adelaide de Estatística***\n",
        "\n",
        "\n",
        "\n",
        "```\n",
        "ageMean = treino.groupby(['Pclass', 'Sex'])['Age'].mean().round(1)\n",
        "\n",
        "def age(row):\n",
        "  if not np.isnan(row['Age']):\n",
        "    return (row['Age'])\n",
        "  return ageMean[row['Pclass'], row['Sex']]\n",
        "\n",
        "\n",
        "treino['idadeMedia'] = treino.apply(age, axis=1)\n",
        "treino['idadeMedia'].head(10)\n",
        "\n",
        "teste['idadeMedia'] = teste.apply(age, axis=1)\n",
        "teste['idadeMedia'].head(10)\n",
        "```\n",
        "\n"
      ],
      "metadata": {
        "id": "6r8Emd_agzYT"
      }
    },
    {
      "cell_type": "markdown",
      "source": [
        "# Criando uma nova variavel idade levando em consideração:\n",
        "\n",
        "- Pclass \n",
        "- Name\n",
        "- Pronome de Tratamento"
      ],
      "metadata": {
        "id": "JXsFyddB8KMM"
      }
    },
    {
      "cell_type": "code",
      "source": [
        "# treino['NovaIdade'] = treino['Age']\n",
        "#teste['NovaIdade'] = teste['Age']"
      ],
      "metadata": {
        "id": "rkT2pxm5a21G"
      },
      "execution_count": null,
      "outputs": []
    },
    {
      "cell_type": "code",
      "source": [
        "# Fazendo o preenchimento das idades ausentes com a média, levando em consideração Pclass e Pronome de tratamento\n",
        "\n",
        "# for c in range(1,4):\n",
        "#   media = treino[(treino['Name'].str.contains('Mr.') & treino['Pclass']==c)]['Age'].mean()\n",
        "#   treino.loc[(treino['Pclass']==c) & (treino[\"Name\"].str.contains(\"Mr.\")) & (treino['Age'].isnull()), 'NovaIdade'] = f'{media:.1f}'\n",
        "\n",
        "#   media = treino[(treino['Name'].str.contains('Miss.') & treino['Pclass']==c)]['Age'].mean()\n",
        "#   treino.loc[(treino['Pclass']==c) & (treino[\"Name\"].str.contains(\"Miss.\")) & (treino['Age'].isnull()), 'NovaIdade'] = f'{media:.1f}'\n",
        "\n",
        "#   media = treino[(treino['Name'].str.contains('Master.') & treino['Pclass']==c)]['Age'].mean()\n",
        "#   treino.loc[(treino['Pclass']==c) & (treino[\"Name\"].str.contains(\"Master.\")) & (treino['Age'].isnull()), 'NovaIdade'] = f'{media:.1f}'\n",
        "\n",
        "#   media = treino[(treino['Name'].str.contains('Col.') & treino['Pclass']==c)]['Age'].mean()\n",
        "#   treino.loc[(treino['Pclass']==c) & (treino[\"Name\"].str.contains(\"Col.\")) & (treino['Age'].isnull()), 'NovaIdade'] = f'{media:.1f}'\n",
        "\n",
        "#   media = treino[treino['Pclass']==c]['Age'].mean()\n",
        "#   treino.loc[(treino['Pclass']==c) & (treino['Age'].isnull()), 'NovaIdade'] = f'{media:.1f}'\n",
        "\n",
        "\n",
        "# treino['NovaIdade'].head(10)"
      ],
      "metadata": {
        "id": "XyNG81lvMtGA"
      },
      "execution_count": null,
      "outputs": []
    },
    {
      "cell_type": "code",
      "source": [
        "# treino[['Age','NovaIdade']].head(10)"
      ],
      "metadata": {
        "id": "WRCcV0M1W_2S"
      },
      "execution_count": null,
      "outputs": []
    },
    {
      "cell_type": "code",
      "source": [
        "# treino['Age'] = treino['NovaIdade']"
      ],
      "metadata": {
        "id": "Mh3GsdbaXAhr"
      },
      "execution_count": null,
      "outputs": []
    },
    {
      "cell_type": "code",
      "source": [
        "# for c in range(1,4):\n",
        "#   media = teste[(teste['Name'].str.contains('Mr.') & teste['Pclass']==c)]['Age'].mean()\n",
        "#   teste.loc[(teste['Pclass']==c) & (teste[\"Name\"].str.contains(\"Mr.\")) & (teste['Age'].isnull()), 'NovaIdade'] = f'{media:.1f}'\n",
        "\n",
        "#   media = teste[(teste['Name'].str.contains('Miss.') & teste['Pclass']==c)]['Age'].mean()\n",
        "#   teste.loc[(teste['Pclass']==c) & (teste[\"Name\"].str.contains(\"Miss.\")) & (teste['Age'].isnull()), 'NovaIdade'] = f'{media:.1f}'\n",
        "\n",
        "#   media = teste[(teste['Name'].str.contains('Master.') & teste['Pclass']==c)]['Age'].mean()\n",
        "#   teste.loc[(teste['Pclass']==c) & (teste[\"Name\"].str.contains(\"Master.\")) & (teste['Age'].isnull()), 'NovaIdade'] = f'{media:.1f}'\n",
        "\n",
        "#   media = teste[(teste['Name'].str.contains('Col.') & teste['Pclass']==c)]['Age'].mean()\n",
        "#   teste.loc[(teste['Pclass']==c) & (teste[\"Name\"].str.contains(\"Col.\")) & (teste['Age'].isnull()), 'NovaIdade'] = f'{media:.1f}'\n",
        "\n",
        "#   media = teste[teste['Pclass']==c]['Age'].mean()\n",
        "#   teste.loc[(teste['Pclass']==c) & (teste['Age'].isnull()), 'NovaIdade'] = f'{media:.1f}'\n",
        "\n",
        "\n",
        "# teste['NovaIdade'].head(10)"
      ],
      "metadata": {
        "id": "W60Vu4LtXAwv"
      },
      "execution_count": null,
      "outputs": []
    },
    {
      "cell_type": "code",
      "source": [
        "# teste[['Age','NovaIdade']].head(10)"
      ],
      "metadata": {
        "id": "Pnk4X9JeXA8q"
      },
      "execution_count": null,
      "outputs": []
    },
    {
      "cell_type": "code",
      "source": [
        "# teste['Age'] = teste['NovaIdade']"
      ],
      "metadata": {
        "id": "ofpz6wxaXBHK"
      },
      "execution_count": null,
      "outputs": []
    },
    {
      "cell_type": "markdown",
      "source": [
        "# Separando os pronomes e colocando em uma nova coluna\n",
        "\n",
        "*   Melhorando os códigos acima com utilização de DEF's"
      ],
      "metadata": {
        "id": "vra6JVU4EI0r"
      }
    },
    {
      "cell_type": "code",
      "source": [
        "def Pronomes(df):\n",
        "\n",
        "  pron=[]\n",
        "\n",
        "  for index, linha in df.iterrows():\n",
        "    # Para cada pronome\n",
        "    for p in pronomes:\n",
        "      # Se pronome está em Name\n",
        "      if p in linha['Name']:\n",
        "        pron.append(p)\n",
        "\n",
        "  while len(pron) < len(df):\n",
        "    pron.append('sem pronome')\n",
        "\n",
        "  df['Pronomes'] = pron"
      ],
      "metadata": {
        "id": "jrWrtB1B22-q"
      },
      "execution_count": null,
      "outputs": []
    },
    {
      "cell_type": "code",
      "source": [
        "Pronomes(treino)\n",
        "Pronomes(teste)"
      ],
      "metadata": {
        "id": "AnX6xzyFEHw9"
      },
      "execution_count": null,
      "outputs": []
    },
    {
      "cell_type": "code",
      "source": [
        "def ageNew(df):\n",
        "  ageMean = df.groupby(['Pclass','Pronomes','Sex'])['Age'].mean()\n",
        "\n",
        "  newAge = []\n",
        "\n",
        "  for index, linha in df.iterrows():\n",
        "    if np.isnan(linha['Age']):\n",
        "      newAge.append(ageMean[linha['Pclass'],linha['Pronomes'],linha['Sex']])\n",
        "    else:\n",
        "      newAge.append(linha['Age'])\n",
        "    \n",
        "  df['NovaIdade'] = newAge"
      ],
      "metadata": {
        "id": "VhVolZoFPuvS"
      },
      "execution_count": null,
      "outputs": []
    },
    {
      "cell_type": "code",
      "source": [
        "ageNew(treino)\n",
        "ageNew(teste)"
      ],
      "metadata": {
        "id": "HJMeprvXWHCQ"
      },
      "execution_count": null,
      "outputs": []
    },
    {
      "cell_type": "code",
      "source": [
        "treino.head()"
      ],
      "metadata": {
        "id": "ugWnf0JOPEfK"
      },
      "execution_count": null,
      "outputs": []
    },
    {
      "cell_type": "code",
      "source": [
        "teste.head()"
      ],
      "metadata": {
        "id": "lk_N9xN4PJ84"
      },
      "execution_count": null,
      "outputs": []
    },
    {
      "cell_type": "markdown",
      "source": [
        "Identificando se permanece com Missing's na NovaIdade"
      ],
      "metadata": {
        "id": "QNyLdWEphv4y"
      }
    },
    {
      "cell_type": "code",
      "source": [
        "treino[treino['NovaIdade'].isnull()]"
      ],
      "metadata": {
        "id": "WzING-GPXB7F"
      },
      "execution_count": null,
      "outputs": []
    },
    {
      "cell_type": "code",
      "source": [
        "teste[teste['NovaIdade'].isnull()]"
      ],
      "metadata": {
        "id": "gyq8vltnfNh-"
      },
      "execution_count": null,
      "outputs": []
    },
    {
      "cell_type": "markdown",
      "source": [
        "Preenchendo as Missings faltantes do df de Teste com a média agrupada por Pclass e Sex"
      ],
      "metadata": {
        "id": "CRDS_2q-eiIE"
      }
    },
    {
      "cell_type": "code",
      "source": [
        "mean = teste.groupby(['Pclass','Sex'])['Age'].mean().astype(int)\n",
        "\n",
        "def age(row):  \n",
        "\n",
        "  if not np.isnan(row['NovaIdade']):\n",
        "    return row['NovaIdade']\n",
        "  return mean[row['Pclass'],row['Sex']]\n",
        "\n",
        "teste['NovaIdade'] = teste.apply(age, axis=1)"
      ],
      "metadata": {
        "id": "ZOb3zgZTy0dU"
      },
      "execution_count": null,
      "outputs": []
    },
    {
      "cell_type": "markdown",
      "source": [
        "# Substituindo a coluna Age pela NovaIdade"
      ],
      "metadata": {
        "id": "ecmncBmRe1x4"
      }
    },
    {
      "cell_type": "markdown",
      "source": [
        "Alterando o tipo da variável NovaIdade antes de realizar a substituição"
      ],
      "metadata": {
        "id": "mSZch9s00MUn"
      }
    },
    {
      "cell_type": "code",
      "source": [
        "teste['NovaIdade'] = teste['NovaIdade'].astype(int)\n",
        "treino['NovaIdade'] = treino['NovaIdade'].astype(int)"
      ],
      "metadata": {
        "id": "XE2yJCvBzxk3"
      },
      "execution_count": null,
      "outputs": []
    },
    {
      "cell_type": "code",
      "source": [
        "treino['NovaIdade'].head()\n",
        "# teste['NovaIdade'].head()"
      ],
      "metadata": {
        "id": "AYD0lA1m0Dv3"
      },
      "execution_count": null,
      "outputs": []
    },
    {
      "cell_type": "code",
      "source": [
        "treino['Age'] = treino['NovaIdade']\n",
        "teste['Age'] = teste['NovaIdade']\n",
        "\n",
        "treino.drop(columns='NovaIdade',axis=1, inplace=True)\n",
        "teste.drop(columns='NovaIdade',axis=1, inplace=True)"
      ],
      "metadata": {
        "id": "gMpw7HMiJ1sS"
      },
      "execution_count": null,
      "outputs": []
    },
    {
      "cell_type": "code",
      "source": [
        "#Visualizando a média das Idades após preenchimento das informações ausentes\n",
        "\n",
        "print(\"*********TREINO*******\")\n",
        "print(f\"{treino.groupby(['Pclass', 'Sex'])['Age'].mean().round(1)}\")\n",
        "\n",
        "print(\"\\n*********TESTE*******\")\n",
        "print(f\"{teste.groupby(['Pclass', 'Sex'])['Age'].mean().round(1)}\")"
      ],
      "metadata": {
        "id": "A-JUCZQdaoxy"
      },
      "execution_count": null,
      "outputs": []
    },
    {
      "cell_type": "code",
      "source": [
        "sns.histplot(treino, x='Age',color='r')\n",
        "plt.title('Variação de Idade dos passageiros')\n",
        "plt.show()"
      ],
      "metadata": {
        "id": "x8EwniJ9L5P4"
      },
      "execution_count": null,
      "outputs": []
    },
    {
      "cell_type": "code",
      "source": [
        "sns.histplot(teste, x='Age', color='b')\n",
        "plt.title(\"Variação de Idade dos passageiros\")\n",
        "plt.show()"
      ],
      "metadata": {
        "id": "mJal2QZd4dEU"
      },
      "execution_count": null,
      "outputs": []
    },
    {
      "cell_type": "markdown",
      "source": [
        "***Sugestão Professor Rafael***: Criar uma nova variável e classificar os passageiros pela idade.\n",
        "\n",
        "Classificação utilizada:\n",
        "- criança <= 12 = 0\n",
        "- jovem <= 17 = 1\n",
        "- adulto <= 64 = 2\n",
        "- idoso > 64 = 3"
      ],
      "metadata": {
        "id": "wR49OA8SFE4J"
      }
    },
    {
      "cell_type": "code",
      "source": [
        "treino['ClassifIdade'] = treino['Age'].map(lambda idade: 0 if idade <= 12 else 1 if idade <=17 else 2 if idade <= 64 else 3)\n",
        "teste['ClassifIdade'] = teste['Age'].map(lambda idade: 0 if idade <= 12 else 1 if idade <=17 else 2 if idade <= 64 else 3)"
      ],
      "metadata": {
        "id": "Bz8uvnpdHcmg"
      },
      "execution_count": null,
      "outputs": []
    },
    {
      "cell_type": "code",
      "source": [
        "treino.head()"
      ],
      "metadata": {
        "id": "mPU6uNOnONgS"
      },
      "execution_count": null,
      "outputs": []
    },
    {
      "cell_type": "code",
      "source": [
        "teste.head()"
      ],
      "metadata": {
        "id": "scB6_lU0VvZy"
      },
      "execution_count": null,
      "outputs": []
    },
    {
      "cell_type": "code",
      "source": [
        "#Visualizando a quantidade de pessoas de acordo com a Classificação realizada\n",
        "\n",
        "print(\"*********TREINO*******\")\n",
        "print(f\"{treino['ClassifIdade'].value_counts()}\")\n",
        "\n",
        "print(\"\\n*********TESTE*******\")\n",
        "print(f\"{teste['ClassifIdade'].value_counts()}\")"
      ],
      "metadata": {
        "id": "mzfpasrHPVNW"
      },
      "execution_count": null,
      "outputs": []
    },
    {
      "cell_type": "code",
      "source": [
        "sns.histplot(treino, x=treino['ClassifIdade'],color='r')\n",
        "plt.title('Variação de Idade dos passageiros')\n",
        "plt.show()"
      ],
      "metadata": {
        "id": "40N2qLA3Qf-q"
      },
      "execution_count": null,
      "outputs": []
    },
    {
      "cell_type": "code",
      "source": [
        "sns.histplot(teste, x=teste['ClassifIdade'], color='b')\n",
        "plt.title('Variação de Idade dos passageiros')\n",
        "plt.show()"
      ],
      "metadata": {
        "id": "BGmraKph58eD"
      },
      "execution_count": null,
      "outputs": []
    },
    {
      "cell_type": "code",
      "source": [
        "# Analisando se há Outliers no DF de Treino\n",
        "\n",
        "sns.boxplot(x=treino['Survived'], y=treino['Age'])\n",
        "plt.title(\"Survived x Age\")\n",
        "plt.show()"
      ],
      "metadata": {
        "id": "MwatOnqDn5Ns"
      },
      "execution_count": null,
      "outputs": []
    },
    {
      "cell_type": "markdown",
      "source": [
        "Explicação Aula sobre **Label Encoding**"
      ],
      "metadata": {
        "id": "7XbrakpmHdFO"
      }
    },
    {
      "cell_type": "code",
      "source": [
        "treino['Sex'] = treino['Sex'].map({'female':1,'male':0} ).astype(int)\n",
        "teste['Sex'] = teste['Sex'].map( {'female':1,'male':0} ).astype(int)"
      ],
      "metadata": {
        "id": "jl7a9WGzE-EL"
      },
      "execution_count": null,
      "outputs": []
    },
    {
      "cell_type": "code",
      "source": [
        "# Visualizando Survived por Sex 0-Male / 1-Female\n",
        "\n",
        "sns.barplot(x=treino['Sex'], y=treino['Survived'])\n",
        "plt.show()"
      ],
      "metadata": {
        "id": "TGMBNMDEr5Kp"
      },
      "execution_count": null,
      "outputs": []
    },
    {
      "cell_type": "code",
      "source": [
        "# Renomeando a coluna Sex\n",
        "treino.rename(columns={'Sex':'Female'},inplace=True)\n",
        "teste.rename(columns={'Sex':'Female'},inplace=True)"
      ],
      "metadata": {
        "id": "TsB5y7gv7Hp8"
      },
      "execution_count": null,
      "outputs": []
    },
    {
      "cell_type": "markdown",
      "source": [
        "Tratando a variavel Embarked\n",
        "\n",
        "- Preenchendo os dados faltantes com o 'Portao' de onde value_counts() trouxer a maior quantidade de passageiros embarcando.\n",
        "\n",
        "Label Encoding na variavel Embarked\n",
        "\n",
        "- 'S':0\n",
        "- 'C':1\n",
        "- 'Q':2"
      ],
      "metadata": {
        "id": "HvXJ4R3iJ299"
      }
    },
    {
      "cell_type": "code",
      "source": [
        "# treino['Embarked'].value_counts()\n",
        "teste['Embarked'].value_counts()"
      ],
      "metadata": {
        "id": "1GKI0yO2IVev"
      },
      "execution_count": null,
      "outputs": []
    },
    {
      "cell_type": "code",
      "source": [
        "treino['Embarked'] = treino.Embarked.fillna('S')\n",
        "teste['Embarked'] = teste.Embarked.fillna('S')"
      ],
      "metadata": {
        "id": "eWao_LMEIoOQ"
      },
      "execution_count": null,
      "outputs": []
    },
    {
      "cell_type": "code",
      "source": [
        "treino['Embarked'] = treino.Embarked.map({'S':0, 'C':1, 'Q':2})\n",
        "teste['Embarked'] = teste.Embarked.map({'S':0, 'C':1, 'Q':2})"
      ],
      "metadata": {
        "id": "_F8ZeIQGJ2dZ"
      },
      "execution_count": null,
      "outputs": []
    },
    {
      "cell_type": "code",
      "source": [
        "treino.head()"
      ],
      "metadata": {
        "id": "ytMSxEH2QahF"
      },
      "execution_count": null,
      "outputs": []
    },
    {
      "cell_type": "code",
      "source": [
        "teste.head()"
      ],
      "metadata": {
        "id": "Owu3IWloQjBg"
      },
      "execution_count": null,
      "outputs": []
    },
    {
      "cell_type": "markdown",
      "source": [
        "# Verificando se o passageiro está acompanhado ou sozinho\n",
        "\n",
        "IsAlone 0 = NO/ 1 = YES\n",
        "\n",
        "***Sugestão Professor Rafael***"
      ],
      "metadata": {
        "id": "tEnJsfTii55E"
      }
    },
    {
      "cell_type": "code",
      "source": [
        "def isAlone(df):\n",
        "  df['FamilySize'] = (df['SibSp'] + df['Parch']) + 1\n",
        "  df['IsAlone'] = df['FamilySize'].map(lambda family: 0 if family > 1 else 1)"
      ],
      "metadata": {
        "id": "ECrUdfXH9JKG"
      },
      "execution_count": null,
      "outputs": []
    },
    {
      "cell_type": "code",
      "source": [
        "isAlone(treino)\n",
        "isAlone(teste)"
      ],
      "metadata": {
        "id": "LypNQelT9rvE"
      },
      "execution_count": null,
      "outputs": []
    },
    {
      "cell_type": "code",
      "source": [
        "treino[['FamilySize', 'IsAlone', 'SibSp', 'Parch']].head(10)\n",
        "# teste[['FamilySize', 'IsAlone', 'SibSp', 'Parch']].head(10)"
      ],
      "metadata": {
        "id": "Or0cvpeo90lC"
      },
      "execution_count": null,
      "outputs": []
    },
    {
      "cell_type": "markdown",
      "source": [
        "#Classificando a variavel Fare"
      ],
      "metadata": {
        "id": "OiecyfDsyBqg"
      }
    },
    {
      "cell_type": "markdown",
      "source": [
        "Preenchendo o dado faltante da coluna Fare do DF de teste\n",
        "\n",
        "E, classificando-o Fare. (0,1,2)"
      ],
      "metadata": {
        "id": "S21vqpIHewwD"
      }
    },
    {
      "cell_type": "code",
      "source": [
        "teste['Fare'].mean()"
      ],
      "metadata": {
        "id": "YSAgHtDGerM5"
      },
      "execution_count": null,
      "outputs": []
    },
    {
      "cell_type": "code",
      "source": [
        "teste[teste['Fare'].isnull()] = teste[teste['Fare'].isnull()].fillna({'Fare': teste['Fare'].mean()})"
      ],
      "metadata": {
        "id": "EjRwWQb3ercN"
      },
      "execution_count": null,
      "outputs": []
    },
    {
      "cell_type": "code",
      "source": [
        "def fare(df):\n",
        "\n",
        "  classif_fare = df.groupby(['Pclass','Female','Embarked'])['Fare'].mean()\n",
        "\n",
        "  classification = []\n",
        "\n",
        "  for index, row in df.iterrows():\n",
        "    if np.isnan(row['Fare']):\n",
        "      classification.append(classif_fare[row['Pclass'],row['Female'],row['Embarked']])\n",
        "    else:\n",
        "      classification.append(row['Fare'])\n",
        "  \n",
        "  df['Classif_fare'] = classification\n",
        "  df['Classif_fare'] = df['Classif_fare'].map(lambda fare: 0 if fare <= 30 else 1 if fare <= 60 else 2 if fare <= 90 else 3)"
      ],
      "metadata": {
        "id": "XJDYhE61y-lK"
      },
      "execution_count": null,
      "outputs": []
    },
    {
      "cell_type": "code",
      "source": [
        "fare(treino)\n",
        "fare(teste)"
      ],
      "metadata": {
        "id": "YH8OOWPazzre"
      },
      "execution_count": null,
      "outputs": []
    },
    {
      "cell_type": "markdown",
      "source": [
        "# Conferindo se ambos os DF's constam com todas as colunas e tipos de dados iguais.\n",
        "\n",
        "E, descartando as colunas que foram classificadas como desnecessárias"
      ],
      "metadata": {
        "id": "Tzn9UVSEcxxG"
      }
    },
    {
      "cell_type": "code",
      "source": [
        "treino.head()"
      ],
      "metadata": {
        "id": "4mNAxc39_Uvu"
      },
      "execution_count": null,
      "outputs": []
    },
    {
      "cell_type": "code",
      "source": [
        "teste.head()"
      ],
      "metadata": {
        "id": "2_rjwxjDR16p"
      },
      "execution_count": null,
      "outputs": []
    },
    {
      "cell_type": "code",
      "source": [
        "treino.info()"
      ],
      "metadata": {
        "id": "_R9CuaCfbT_n"
      },
      "execution_count": null,
      "outputs": []
    },
    {
      "cell_type": "code",
      "source": [
        "teste.info()"
      ],
      "metadata": {
        "id": "nGnvREEocmMP"
      },
      "execution_count": null,
      "outputs": []
    },
    {
      "cell_type": "markdown",
      "source": [
        "Removendo as variáveis que não serão utilizadas"
      ],
      "metadata": {
        "id": "WFdtjjlam0_1"
      }
    },
    {
      "cell_type": "code",
      "source": [
        "def removeColumns(df):\n",
        "\n",
        "  variaveis_descartadas = ['PassengerId', 'Name','SibSp','Parch','Ticket', 'Cabin',\"Pronomes\",'ClassifIdade','FamilySize', 'Classif_fare']\n",
        "\n",
        "  df['Age'] = df['ClassifIdade']\n",
        "  df['Fare'] = df['Classif_fare']\n",
        "\n",
        "  return df.drop(columns=variaveis_descartadas, axis=1)"
      ],
      "metadata": {
        "id": "Uj5W5lOaSWSK"
      },
      "execution_count": null,
      "outputs": []
    },
    {
      "cell_type": "code",
      "source": [
        "train_copy = removeColumns(treino)\n",
        "test_copy = removeColumns(teste)"
      ],
      "metadata": {
        "id": "jkdw766ncwHZ"
      },
      "execution_count": null,
      "outputs": []
    },
    {
      "cell_type": "code",
      "source": [
        "train_copy.head()"
      ],
      "metadata": {
        "id": "LSDXK3IQ3-ad"
      },
      "execution_count": null,
      "outputs": []
    },
    {
      "cell_type": "code",
      "source": [
        "test_copy.head()"
      ],
      "metadata": {
        "id": "AJUrrO9X4hgG"
      },
      "execution_count": null,
      "outputs": []
    },
    {
      "cell_type": "markdown",
      "source": [
        "## Iniciando o treino do modelo"
      ],
      "metadata": {
        "id": "KcoQCaGVnUuC"
      }
    },
    {
      "cell_type": "code",
      "source": [
        "from sklearn.tree import DecisionTreeClassifier\n",
        "from sklearn.neighbors import KNeighborsClassifier\n",
        "from sklearn.model_selection import cross_val_score, train_test_split\n",
        "from sklearn.metrics import confusion_matrix\n",
        "import xgboost as xgb"
      ],
      "metadata": {
        "id": "wUw9y2IYedtT"
      },
      "execution_count": null,
      "outputs": []
    },
    {
      "cell_type": "markdown",
      "source": [
        "\n",
        "Separando os dados de entrada e saída"
      ],
      "metadata": {
        "id": "xxxPoJ-XnF5m"
      }
    },
    {
      "cell_type": "code",
      "source": [
        "x = train_copy.drop(columns='Survived', axis=1)\n",
        "y = train_copy['Survived']"
      ],
      "metadata": {
        "id": "aIy8d_bxco6p"
      },
      "execution_count": null,
      "outputs": []
    },
    {
      "cell_type": "markdown",
      "source": [
        "Modelo DecisionTreeClassifier"
      ],
      "metadata": {
        "id": "D-Oqxnh5_ADf"
      }
    },
    {
      "cell_type": "code",
      "source": [
        "modelo_dt = DecisionTreeClassifier(max_depth=10, criterion='entropy')"
      ],
      "metadata": {
        "id": "d_vrjl0anoVC"
      },
      "execution_count": null,
      "outputs": []
    },
    {
      "cell_type": "code",
      "source": [
        "score_dt = cross_val_score(modelo_dt,x,y, scoring='accuracy', cv=5)\n",
        "print(f'Accuracy \\nDecisionTreeClassifier:{score_dt.mean():.2f}')"
      ],
      "metadata": {
        "id": "vw3SizuunvSk"
      },
      "execution_count": null,
      "outputs": []
    },
    {
      "cell_type": "code",
      "source": [
        "modelo_dt.fit(x,y)\n",
        "y_predict_dt = modelo_dt.predict(x)"
      ],
      "metadata": {
        "id": "VDi5fL-On09a"
      },
      "execution_count": null,
      "outputs": []
    },
    {
      "cell_type": "code",
      "source": [
        "# Comparando a efetividade do modelo levando em consideração que todas as mulheres sobreviveram\n",
        "predict_test = (x['Female'] == 1).astype(np.int64)\n",
        "np.mean(y_predict_dt == predict_test).round(2)"
      ],
      "metadata": {
        "id": "xe7YLR59oXMJ"
      },
      "execution_count": null,
      "outputs": []
    },
    {
      "cell_type": "code",
      "source": [
        "for feature, importance in zip(x.columns, modelo_dt.feature_importances_):\n",
        "  print(f'{feature}: {importance:.2f}')"
      ],
      "metadata": {
        "id": "AtJNzGgQ7e_J"
      },
      "execution_count": null,
      "outputs": []
    },
    {
      "cell_type": "code",
      "source": [
        "confusion_matrix(y,y_predict_dt)"
      ],
      "metadata": {
        "id": "qLpe4VqR9gmW"
      },
      "execution_count": null,
      "outputs": []
    },
    {
      "cell_type": "markdown",
      "source": [
        "Modelo KNN"
      ],
      "metadata": {
        "id": "gzSuYIB6_HV4"
      }
    },
    {
      "cell_type": "code",
      "source": [
        "modelo_KNN = KNeighborsClassifier(n_neighbors = 3)"
      ],
      "metadata": {
        "id": "gEsmJUV1_G5l"
      },
      "execution_count": null,
      "outputs": []
    },
    {
      "cell_type": "code",
      "source": [
        "modelo_KNN.fit(x,y)\n",
        "y_KNN_pred = modelo_KNN.predict(x)"
      ],
      "metadata": {
        "id": "gPkwXSwCADWM"
      },
      "execution_count": null,
      "outputs": []
    },
    {
      "cell_type": "code",
      "source": [
        "predict_test_knn = (x['Female'] == 1).astype(np.int64)\n",
        "np.mean(y_KNN_pred == predict_test_knn).round(2)"
      ],
      "metadata": {
        "id": "qU4cdm8UAB6x"
      },
      "execution_count": null,
      "outputs": []
    },
    {
      "cell_type": "code",
      "source": [
        "confusion_matrix(y,y_KNN_pred)"
      ],
      "metadata": {
        "id": "Nc6dGmtQBbCz"
      },
      "execution_count": null,
      "outputs": []
    },
    {
      "cell_type": "code",
      "source": [
        "#treinando com Cross Validation\n",
        "\n",
        "score_knn= cross_val_score(modelo_KNN,x,y, scoring='accuracy', cv=5)\n",
        "print(f'Accuracy \\nKNN:{score_knn.mean():.2f}')"
      ],
      "metadata": {
        "id": "gV8ce9wHbJtM"
      },
      "execution_count": null,
      "outputs": []
    },
    {
      "cell_type": "code",
      "source": [
        "predict_knn_teste = modelo_KNN.predict(test_copy)\n",
        "predict_knn = (test_copy['Female'] == 1).astype(np.int64)\n",
        "\n",
        "np.mean(predict_knn_teste == predict_knn)"
      ],
      "metadata": {
        "id": "c0NvhuGVjSU8"
      },
      "execution_count": null,
      "outputs": []
    },
    {
      "cell_type": "markdown",
      "source": [
        "Modelo XGBOOST"
      ],
      "metadata": {
        "id": "0L6hLVreXIW0"
      }
    },
    {
      "cell_type": "code",
      "source": [
        "modelo_xgb = xgb.XGBClassifier(booster='dart',\n",
        "                               subsample=0.03,\n",
        "                               max_depth=10,\n",
        "                               n_estimators=300,\n",
        "                               learning_rate=0.02)\n",
        "\n",
        "modelo_xgb.fit(x,y)\n",
        "\n",
        "y_predict = modelo_xgb.predict(x)\n",
        "\n",
        "predict_test = (x['Female'] == 1).astype(np.int64)\n",
        "np.mean(y_predict == predict_test).round(2)"
      ],
      "metadata": {
        "id": "ui9bgYfaXHG4"
      },
      "execution_count": null,
      "outputs": []
    },
    {
      "cell_type": "code",
      "source": [
        "cm_xgb = confusion_matrix(y,y_predict)\n",
        "cm_xgb "
      ],
      "metadata": {
        "id": "n-KfJOURZDu5"
      },
      "execution_count": null,
      "outputs": []
    },
    {
      "cell_type": "code",
      "source": [
        "# Utilizando o DF de Teste\n",
        "\n",
        "y_predict_xgb = modelo_xgb.predict(test_copy)\n",
        "predict_test = (test_copy['Female'] == 1).astype(np.int64)\n",
        "np.mean(y_predict_xgb == predict_test).round(2)"
      ],
      "metadata": {
        "id": "vjY8qzLMcRA7"
      },
      "execution_count": null,
      "outputs": []
    },
    {
      "cell_type": "markdown",
      "source": [
        "# Criando a submissão para o Kaggle\n",
        "\n",
        "Utilizando o predict do modelo que teve uma melhor acc"
      ],
      "metadata": {
        "id": "muEtRbuH8YfQ"
      }
    },
    {
      "cell_type": "code",
      "source": [
        "submit = pd.Series(y_predict_xgb, index=teste['PassengerId'],name='Survived')\n",
        "submit.to_csv('ModeloXGBoost.csv')\n",
        "files.download('ModeloXGBoost.csv')"
      ],
      "metadata": {
        "id": "g-8J2YHG9FlY"
      },
      "execution_count": null,
      "outputs": []
    }
  ]
}
